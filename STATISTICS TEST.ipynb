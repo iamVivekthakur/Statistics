{
 "cells": [
  {
   "cell_type": "markdown",
   "id": "85c11ed3",
   "metadata": {},
   "source": [
    "# STATISTICS TEST"
   ]
  },
  {
   "cell_type": "code",
   "execution_count": 1,
   "id": "2544eaa7",
   "metadata": {},
   "outputs": [],
   "source": [
    "import numpy as np \n",
    "import pandas as pd \n",
    "import matplotlib.pyplot as plt\n",
    "import seaborn as sns\n",
    "import scipy.stats as st\n",
    "import warnings\n",
    "warnings.filterwarnings(\"ignore\")"
   ]
  },
  {
   "cell_type": "markdown",
   "id": "30b3b276",
   "metadata": {},
   "source": [
    "# Q1). State the CLT?"
   ]
  },
  {
   "cell_type": "markdown",
   "id": "35662ea7",
   "metadata": {},
   "source": [
    "ANSWER :-\n",
    "1. CLT stands for Central Limit Theorm.\n",
    "\n",
    "2. Central Limit Theorm states that the sample mean should be equal to the population mean.\n",
    "\n",
    "3. Population standard deviation= sample standard deviation /rt n where n is the number of sample."
   ]
  },
  {
   "cell_type": "markdown",
   "id": "2002c011",
   "metadata": {},
   "source": [
    "# Q2. We have Dataset like this  120,132,144,123,156,190,178,165,183.Find the mean , median , std , var ,check if the distribution is normal.\n"
   ]
  },
  {
   "cell_type": "code",
   "execution_count": 2,
   "id": "c79bf506",
   "metadata": {},
   "outputs": [],
   "source": [
    "x=pd.Series([120,132,144,123,156,190,178,165,183])"
   ]
  },
  {
   "cell_type": "code",
   "execution_count": 3,
   "id": "357cfa66",
   "metadata": {},
   "outputs": [
    {
     "name": "stdout",
     "output_type": "stream",
     "text": [
      "154.55555555555554\n",
      "156.0\n",
      "26.30642084696772\n",
      "692.0277777777777\n"
     ]
    }
   ],
   "source": [
    "print(x.mean())\n",
    "print(x.median())\n",
    "print(x.std())\n",
    "print(x.var())"
   ]
  },
  {
   "cell_type": "code",
   "execution_count": 4,
   "id": "713b534c",
   "metadata": {},
   "outputs": [
    {
     "data": {
      "image/png": "[encoded data removed]",
      "text/plain": [
       "<Figure size 432x288 with 1 Axes>"
      ]
     },
     "metadata": {
      "needs_background": "light"
     },
     "output_type": "display_data"
    }
   ],
   "source": [
    "import pylab\n",
    "st.probplot(x,dist=\"norm\", plot=pylab);"
   ]
  },
  {
   "cell_type": "markdown",
   "id": "4e1d41c2",
   "metadata": {},
   "source": [
    "Conclusion :-\n",
    "\n",
    "from the above graph we can conclude that the series is not normaly distributed."
   ]
  },
  {
   "cell_type": "markdown",
   "id": "be2dba5d",
   "metadata": {},
   "source": [
    "# Q3.State what is a random variable and what is PDF , CDF and PMF. Can we have CDF of Discrete variable \n"
   ]
  },
  {
   "cell_type": "markdown",
   "id": "e7192ae5",
   "metadata": {},
   "source": [
    "ANSWER :-\n",
    "\n",
    "Random variables are those variable which has being assigned to each samples randomly. We can also say it depends upon the outcome what value is to be assigned. For example tossing a coin.\n",
    "\n",
    "\n",
    "PDF:- PDF stands for probability density function which is used to find the probability of the random variables.\n",
    "\n",
    "CDF :- CDF stands for cumulative distribution function which is used to find the probability of real value provided to the variable.\n",
    "\n",
    "PMF :- PMF stands for probability mass function which stats the sum of all the probability derived from any sample.\n",
    "\n",
    "Yes, CDf of Discrete variable is possible."
   ]
  },
  {
   "cell_type": "markdown",
   "id": "9cd0bee9",
   "metadata": {},
   "source": [
    "# Q4.What is the key difference between Covariance and Corelation ?\n"
   ]
  },
  {
   "cell_type": "markdown",
   "id": "0352afd4",
   "metadata": {},
   "source": [
    "ANSWER :-\n",
    "\n",
    "The key difference of Covariance and corelation is:\n",
    "\n",
    "Covariance shows how two variables are different from one another whereas corelation states the relation between two variables how they relate with one another.\n",
    "\n",
    "Covariance= sum of (x1-xmean)(y1-ymean)/N-1\n",
    "\n",
    "corelation= cov/standard deviation*2"
   ]
  },
  {
   "cell_type": "markdown",
   "id": "9db950d0",
   "metadata": {},
   "source": [
    "# Q5. Compute the Spearman Corelation coefficient.\n",
    "\n",
    "45\n",
    "78\n",
    "89\n",
    "67\n",
    "56\n",
    "99\n",
    "70\n",
    "98\n",
    "33\n",
    "68\n",
    "78 \n",
    "45\n",
    "90\n",
    "70\n",
    "66\n",
    "91\n",
    "88\n",
    "56\n",
    "100\n",
    "80\n",
    "\n"
   ]
  },
  {
   "cell_type": "code",
   "execution_count": 5,
   "id": "926ee1d8",
   "metadata": {},
   "outputs": [
    {
     "data": {
      "text/html": [
       "<div>\n",
       "<style scoped>\n",
       "    .dataframe tbody tr th:only-of-type {\n",
       "        vertical-align: middle;\n",
       "    }\n",
       "\n",
       "    .dataframe tbody tr th {\n",
       "        vertical-align: top;\n",
       "    }\n",
       "\n",
       "    .dataframe thead th {\n",
       "        text-align: right;\n",
       "    }\n",
       "</style>\n",
       "<table border=\"1\" class=\"dataframe\">\n",
       "  <thead>\n",
       "    <tr style=\"text-align: right;\">\n",
       "      <th></th>\n",
       "      <th>a</th>\n",
       "      <th>b</th>\n",
       "    </tr>\n",
       "  </thead>\n",
       "  <tbody>\n",
       "    <tr>\n",
       "      <th>a</th>\n",
       "      <td>1.000000</td>\n",
       "      <td>-0.078788</td>\n",
       "    </tr>\n",
       "    <tr>\n",
       "      <th>b</th>\n",
       "      <td>-0.078788</td>\n",
       "      <td>1.000000</td>\n",
       "    </tr>\n",
       "  </tbody>\n",
       "</table>\n",
       "</div>"
      ],
      "text/plain": [
       "          a         b\n",
       "a  1.000000 -0.078788\n",
       "b -0.078788  1.000000"
      ]
     },
     "execution_count": 5,
     "metadata": {},
     "output_type": "execute_result"
    }
   ],
   "source": [
    "df=pd.DataFrame({\"a\":[45,78,89,67,56,99,70,98,33,68], \"b\": [78,45,90,70,66,91,88,56,100,80]})\n",
    "df.corr(method = \"spearman\")"
   ]
  },
  {
   "cell_type": "markdown",
   "id": "06918aa8",
   "metadata": {},
   "source": [
    "# Q6. pop mean  = 400\n",
    "      Sample mean = 370\n",
    "      Sample std  = 30\n",
    "      C.I  = 95%\n",
    "      N = 80\n"
   ]
  },
  {
   "cell_type": "code",
   "execution_count": 6,
   "id": "9313cd3f",
   "metadata": {},
   "outputs": [
    {
     "name": "stdout",
     "output_type": "stream",
     "text": [
      "3.3541019662496843\n",
      "-8.94427190999916\n",
      "Reject null hypothesis. \n"
     ]
    }
   ],
   "source": [
    "p_mean  = 400\n",
    "S_mean = 370\n",
    "S_std  = 30\n",
    "N = 80\n",
    "alpha=0.05\n",
    "\n",
    "SE= S_std/np.sqrt(N)\n",
    "print(SE)\n",
    "\n",
    "z_score=(S_mean-p_mean)/SE\n",
    "print(z_score)\n",
    "\n",
    "p_value=0.0001\n",
    "\n",
    "if p_value<alpha:\n",
    "    print(\"Reject null hypothesis. \")\n",
    "    \n",
    "else:\n",
    "    print(\"Accept null hypothesis. \")\n"
   ]
  },
  {
   "cell_type": "markdown",
   "id": "b1349dce",
   "metadata": {},
   "source": [
    "# Q7. pop mean  = 33\n",
    "       Sample mean = 30\n",
    "       Sample std = 2.5\n",
    "      Alpha = 0.10\n",
    "      N = 8\n"
   ]
  },
  {
   "cell_type": "code",
   "execution_count": 7,
   "id": "588bd828",
   "metadata": {},
   "outputs": [
    {
     "name": "stdout",
     "output_type": "stream",
     "text": [
      "0.8838834764831843\n",
      "-3.3941125496954285\n",
      "Reject null hypothesis. \n"
     ]
    }
   ],
   "source": [
    "p_mean  = 33\n",
    "S_mean = 30\n",
    "S_std  = 2.5\n",
    "N = 8\n",
    "alpha=0.10\n",
    "\n",
    "SE= S_std/np.sqrt(N)\n",
    "print(SE)\n",
    "\n",
    "z_score=(S_mean-p_mean)/SE\n",
    "print(z_score)\n",
    "\n",
    "p_value=0.0006\n",
    "\n",
    "if p_value<alpha:\n",
    "    print(\"Reject null hypothesis. \")\n",
    "    \n",
    "else:\n",
    "    print(\"Accept null hypothesis. \")\n"
   ]
  },
  {
   "cell_type": "markdown",
   "id": "c13cae9c",
   "metadata": {},
   "source": [
    "# Q8. Observed \n",
    "A\n",
    "B\n",
    "C\n",
    "D\n",
    "Owned 1 dog\n",
    "60\n",
    "50\n",
    "30\n",
    "20\n",
    "Owned 2 dog\n",
    "30\n",
    "20\n",
    "15\n",
    "10\n",
    "\n",
    " Check for the degree of independence \n"
   ]
  },
  {
   "cell_type": "code",
   "execution_count": 8,
   "id": "73e9d02b",
   "metadata": {},
   "outputs": [
    {
     "data": {
      "text/html": [
       "<div>\n",
       "<style scoped>\n",
       "    .dataframe tbody tr th:only-of-type {\n",
       "        vertical-align: middle;\n",
       "    }\n",
       "\n",
       "    .dataframe tbody tr th {\n",
       "        vertical-align: top;\n",
       "    }\n",
       "\n",
       "    .dataframe thead th {\n",
       "        text-align: right;\n",
       "    }\n",
       "</style>\n",
       "<table border=\"1\" class=\"dataframe\">\n",
       "  <thead>\n",
       "    <tr style=\"text-align: right;\">\n",
       "      <th></th>\n",
       "      <th>A</th>\n",
       "      <th>B</th>\n",
       "      <th>C</th>\n",
       "      <th>D</th>\n",
       "    </tr>\n",
       "  </thead>\n",
       "  <tbody>\n",
       "    <tr>\n",
       "      <th>Owned 1 dog</th>\n",
       "      <td>60</td>\n",
       "      <td>50</td>\n",
       "      <td>30</td>\n",
       "      <td>20</td>\n",
       "    </tr>\n",
       "    <tr>\n",
       "      <th>Owned 2 dog</th>\n",
       "      <td>30</td>\n",
       "      <td>20</td>\n",
       "      <td>15</td>\n",
       "      <td>10</td>\n",
       "    </tr>\n",
       "  </tbody>\n",
       "</table>\n",
       "</div>"
      ],
      "text/plain": [
       "              A   B   C   D\n",
       "Owned 1 dog  60  50  30  20\n",
       "Owned 2 dog  30  20  15  10"
      ]
     },
     "execution_count": 8,
     "metadata": {},
     "output_type": "execute_result"
    }
   ],
   "source": [
    "df=pd.DataFrame({\"Owned 1 dog\":[60,50,30,20], \"Owned 2 dog\":[30,20,15,10]}, index=[\"A\",\"B\",\"C\",\"D\"]).T\n",
    "df"
   ]
  },
  {
   "cell_type": "code",
   "execution_count": 12,
   "id": "89245893",
   "metadata": {},
   "outputs": [
    {
     "name": "stdout",
     "output_type": "stream",
     "text": [
      "(0.5128968253968255, 0.9160490360646937, 3, array([[61.27659574, 47.65957447, 30.63829787, 20.42553191],\n",
      "       [28.72340426, 22.34042553, 14.36170213,  9.57446809]]))\n",
      "Accept null hypothesis.\n"
     ]
    }
   ],
   "source": [
    "a=st.chi2_contingency(df)\n",
    "print(a)\n",
    "# H0= they are dependent on one another.\n",
    "# H1= they are not dependent on one another\n",
    "if a[1]<0.05:\n",
    "    print(\"Reject null hypothesis.\")\n",
    "    \n",
    "else:\n",
    "    print(\"Accept null hypothesis.\")"
   ]
  },
  {
   "cell_type": "markdown",
   "id": "7513841e",
   "metadata": {},
   "source": [
    "Conclusion :-\n",
    "\n",
    "Since we are accepting null hypothesis this means person who owes 1 dog or 2 dogs, they are dependent on one another."
   ]
  }
 ],
 "metadata": {
  "kernelspec": {
   "display_name": "Python 3 (ipykernel)",
   "language": "python",
   "name": "python3"
  },
  "language_info": {
   "codemirror_mode": {
    "name": "ipython",
    "version": 3
   },
   "file_extension": ".py",
   "mimetype": "text/x-python",
   "name": "python",
   "nbconvert_exporter": "python",
   "pygments_lexer": "ipython3",
   "version": "3.10.2"
  }
 },
 "nbformat": 4,
 "nbformat_minor": 5
}
