{
 "cells": [
  {
   "cell_type": "markdown",
   "id": "c70da771",
   "metadata": {},
   "source": [
    "# STATISTICS CLASS NOTES"
   ]
  },
  {
   "cell_type": "markdown",
   "id": "9953a7bf",
   "metadata": {},
   "source": [
    "WHAT IS STATISTICS OR STATS?\n",
    "\n",
    "------> IN SIMPLE WORDS STATISTICS OR STATS IS THE STUDY OF THE SAMPLES WHICH IS BEING TREATED AS POPULATIONS. STATS IS DEVIVED INTO TWO PART DESCRIPTIVE AND INFERENTIAL."
   ]
  },
  {
   "cell_type": "markdown",
   "id": "c3e092c9",
   "metadata": {},
   "source": [
    "# Introduction to basic Statistics terms\n",
    "• Population: A collection, or set, of individuals or objects or events whose properties are to be analyzed ( Raw data that we get from the client).\n",
    "\n",
    "• Sample: A subset of the population. It should be representative of the population.\n",
    "\n",
    "• Variable: A characteristic of each element of a population or sample.\n",
    "\n",
    "• Data (singular): The value of the variable associated with one element of a population or sample. This value may be a number, a word, or a symbol.\n",
    "\n",
    "• Data (plural): The set of values collected for the variable from each of the elements belonging to the sample.\n",
    "\n",
    "• Experiment: A planned activity whose results yield a collection of data.\n",
    "\n",
    "• Parameter: A numerical value summarizing all the data of an entire population (Mean, Median, Mode).\n",
    "\n",
    "• Statistic: A numerical value summarizing the sample data.\n"
   ]
  },
  {
   "cell_type": "markdown",
   "id": "7800cc55",
   "metadata": {},
   "source": [
    "# DESCRIPTIVE STATS"
   ]
  },
  {
   "cell_type": "code",
   "execution_count": 1,
   "id": "23a56959",
   "metadata": {},
   "outputs": [],
   "source": [
    "import numpy as np \n",
    "import pandas as pd \n",
    "import matplotlib.pyplot as plt\n",
    "import seaborn as sns\n",
    "import scipy.stats as st\n",
    "import warnings\n",
    "warnings.filterwarnings(\"ignore\")\n",
    "import statsmodels\n",
    "from statsmodels.stats.weightstats import ztest as zt"
   ]
  },
  {
   "cell_type": "code",
   "execution_count": 2,
   "id": "72193880",
   "metadata": {},
   "outputs": [
    {
     "data": {
      "text/html": [
       "<div>\n",
       "<style scoped>\n",
       "    .dataframe tbody tr th:only-of-type {\n",
       "        vertical-align: middle;\n",
       "    }\n",
       "\n",
       "    .dataframe tbody tr th {\n",
       "        vertical-align: top;\n",
       "    }\n",
       "\n",
       "    .dataframe thead th {\n",
       "        text-align: right;\n",
       "    }\n",
       "</style>\n",
       "<table border=\"1\" class=\"dataframe\">\n",
       "  <thead>\n",
       "    <tr style=\"text-align: right;\">\n",
       "      <th></th>\n",
       "      <th>sepal_length</th>\n",
       "      <th>sepal_width</th>\n",
       "      <th>petal_length</th>\n",
       "      <th>petal_width</th>\n",
       "      <th>species</th>\n",
       "    </tr>\n",
       "  </thead>\n",
       "  <tbody>\n",
       "    <tr>\n",
       "      <th>0</th>\n",
       "      <td>5.1</td>\n",
       "      <td>3.5</td>\n",
       "      <td>1.4</td>\n",
       "      <td>0.2</td>\n",
       "      <td>setosa</td>\n",
       "    </tr>\n",
       "    <tr>\n",
       "      <th>1</th>\n",
       "      <td>4.9</td>\n",
       "      <td>3.0</td>\n",
       "      <td>1.4</td>\n",
       "      <td>0.2</td>\n",
       "      <td>setosa</td>\n",
       "    </tr>\n",
       "  </tbody>\n",
       "</table>\n",
       "</div>"
      ],
      "text/plain": [
       "   sepal_length  sepal_width  petal_length  petal_width species\n",
       "0           5.1          3.5           1.4          0.2  setosa\n",
       "1           4.9          3.0           1.4          0.2  setosa"
      ]
     },
     "execution_count": 2,
     "metadata": {},
     "output_type": "execute_result"
    }
   ],
   "source": [
    "df= sns.load_dataset(\"iris\")\n",
    "df.head(2)"
   ]
  },
  {
   "cell_type": "code",
   "execution_count": 3,
   "id": "45c9a343",
   "metadata": {},
   "outputs": [
    {
     "data": {
      "text/plain": [
       "(150, 5)"
      ]
     },
     "execution_count": 3,
     "metadata": {},
     "output_type": "execute_result"
    }
   ],
   "source": [
    "df.shape"
   ]
  },
  {
   "cell_type": "code",
   "execution_count": 4,
   "id": "e9dbef2a",
   "metadata": {},
   "outputs": [
    {
     "name": "stdout",
     "output_type": "stream",
     "text": [
      "<class 'pandas.core.frame.DataFrame'>\n",
      "RangeIndex: 150 entries, 0 to 149\n",
      "Data columns (total 5 columns):\n",
      " #   Column        Non-Null Count  Dtype  \n",
      "---  ------        --------------  -----  \n",
      " 0   sepal_length  150 non-null    float64\n",
      " 1   sepal_width   150 non-null    float64\n",
      " 2   petal_length  150 non-null    float64\n",
      " 3   petal_width   150 non-null    float64\n",
      " 4   species       150 non-null    object \n",
      "dtypes: float64(4), object(1)\n",
      "memory usage: 6.0+ KB\n"
     ]
    }
   ],
   "source": [
    "df.info()"
   ]
  },
  {
   "cell_type": "code",
   "execution_count": 5,
   "id": "c37136b7",
   "metadata": {},
   "outputs": [
    {
     "data": {
      "text/html": [
       "<div>\n",
       "<style scoped>\n",
       "    .dataframe tbody tr th:only-of-type {\n",
       "        vertical-align: middle;\n",
       "    }\n",
       "\n",
       "    .dataframe tbody tr th {\n",
       "        vertical-align: top;\n",
       "    }\n",
       "\n",
       "    .dataframe thead th {\n",
       "        text-align: right;\n",
       "    }\n",
       "</style>\n",
       "<table border=\"1\" class=\"dataframe\">\n",
       "  <thead>\n",
       "    <tr style=\"text-align: right;\">\n",
       "      <th></th>\n",
       "      <th>count</th>\n",
       "      <th>mean</th>\n",
       "      <th>std</th>\n",
       "      <th>min</th>\n",
       "      <th>25%</th>\n",
       "      <th>50%</th>\n",
       "      <th>75%</th>\n",
       "      <th>max</th>\n",
       "    </tr>\n",
       "  </thead>\n",
       "  <tbody>\n",
       "    <tr>\n",
       "      <th>sepal_length</th>\n",
       "      <td>150.0</td>\n",
       "      <td>5.843333</td>\n",
       "      <td>0.828066</td>\n",
       "      <td>4.3</td>\n",
       "      <td>5.1</td>\n",
       "      <td>5.80</td>\n",
       "      <td>6.4</td>\n",
       "      <td>7.9</td>\n",
       "    </tr>\n",
       "    <tr>\n",
       "      <th>sepal_width</th>\n",
       "      <td>150.0</td>\n",
       "      <td>3.057333</td>\n",
       "      <td>0.435866</td>\n",
       "      <td>2.0</td>\n",
       "      <td>2.8</td>\n",
       "      <td>3.00</td>\n",
       "      <td>3.3</td>\n",
       "      <td>4.4</td>\n",
       "    </tr>\n",
       "    <tr>\n",
       "      <th>petal_length</th>\n",
       "      <td>150.0</td>\n",
       "      <td>3.758000</td>\n",
       "      <td>1.765298</td>\n",
       "      <td>1.0</td>\n",
       "      <td>1.6</td>\n",
       "      <td>4.35</td>\n",
       "      <td>5.1</td>\n",
       "      <td>6.9</td>\n",
       "    </tr>\n",
       "    <tr>\n",
       "      <th>petal_width</th>\n",
       "      <td>150.0</td>\n",
       "      <td>1.199333</td>\n",
       "      <td>0.762238</td>\n",
       "      <td>0.1</td>\n",
       "      <td>0.3</td>\n",
       "      <td>1.30</td>\n",
       "      <td>1.8</td>\n",
       "      <td>2.5</td>\n",
       "    </tr>\n",
       "  </tbody>\n",
       "</table>\n",
       "</div>"
      ],
      "text/plain": [
       "              count      mean       std  min  25%   50%  75%  max\n",
       "sepal_length  150.0  5.843333  0.828066  4.3  5.1  5.80  6.4  7.9\n",
       "sepal_width   150.0  3.057333  0.435866  2.0  2.8  3.00  3.3  4.4\n",
       "petal_length  150.0  3.758000  1.765298  1.0  1.6  4.35  5.1  6.9\n",
       "petal_width   150.0  1.199333  0.762238  0.1  0.3  1.30  1.8  2.5"
      ]
     },
     "execution_count": 5,
     "metadata": {},
     "output_type": "execute_result"
    }
   ],
   "source": [
    "df.describe().T"
   ]
  },
  {
   "cell_type": "code",
   "execution_count": 6,
   "id": "3aa98a9a",
   "metadata": {},
   "outputs": [
    {
     "data": {
      "text/plain": [
       "5.843333333333334"
      ]
     },
     "execution_count": 6,
     "metadata": {},
     "output_type": "execute_result"
    }
   ],
   "source": [
    "df[\"sepal_length\"].mean()"
   ]
  },
  {
   "cell_type": "code",
   "execution_count": 7,
   "id": "6ae9cee9",
   "metadata": {},
   "outputs": [
    {
     "data": {
      "text/plain": [
       "4.3"
      ]
     },
     "execution_count": 7,
     "metadata": {},
     "output_type": "execute_result"
    }
   ],
   "source": [
    "df[\"sepal_length\"].min()"
   ]
  },
  {
   "cell_type": "code",
   "execution_count": 8,
   "id": "96cd2acf",
   "metadata": {},
   "outputs": [
    {
     "data": {
      "text/plain": [
       "0.828066127977863"
      ]
     },
     "execution_count": 8,
     "metadata": {},
     "output_type": "execute_result"
    }
   ],
   "source": [
    "df[\"sepal_length\"].std()"
   ]
  },
  {
   "cell_type": "code",
   "execution_count": 9,
   "id": "ee288dbd",
   "metadata": {},
   "outputs": [
    {
     "data": {
      "text/plain": [
       "0    5.0\n",
       "Name: sepal_length, dtype: float64"
      ]
     },
     "execution_count": 9,
     "metadata": {},
     "output_type": "execute_result"
    }
   ],
   "source": [
    "df[\"sepal_length\"].mode()"
   ]
  },
  {
   "cell_type": "code",
   "execution_count": 10,
   "id": "49d0fae6",
   "metadata": {},
   "outputs": [
    {
     "data": {
      "text/plain": [
       "0.6856935123042507"
      ]
     },
     "execution_count": 10,
     "metadata": {},
     "output_type": "execute_result"
    }
   ],
   "source": [
    "df[\"sepal_length\"].var()"
   ]
  },
  {
   "cell_type": "code",
   "execution_count": 11,
   "id": "e58403cd",
   "metadata": {},
   "outputs": [
    {
     "data": {
      "text/plain": [
       "3.6000000000000005"
      ]
     },
     "execution_count": 11,
     "metadata": {},
     "output_type": "execute_result"
    }
   ],
   "source": [
    "# HOW TO CALCULATE RANGE\n",
    "\n",
    "range=df[\"sepal_length\"].max()-df[\"sepal_length\"].min()\n",
    "range"
   ]
  },
  {
   "cell_type": "code",
   "execution_count": 12,
   "id": "32bc3616",
   "metadata": {},
   "outputs": [
    {
     "data": {
      "image/png": "[encoded data removed]",
      "text/plain": [
       "<Figure size 432x288 with 1 Axes>"
      ]
     },
     "metadata": {
      "needs_background": "light"
     },
     "output_type": "display_data"
    }
   ],
   "source": [
    "# kde- kernel density plot\n",
    "sns.kdeplot(df[\"sepal_length\"]);"
   ]
  },
  {
   "cell_type": "code",
   "execution_count": 13,
   "id": "bbb8706a",
   "metadata": {},
   "outputs": [
    {
     "data": {
      "text/plain": [
       "0.3149109566369728"
      ]
     },
     "execution_count": 13,
     "metadata": {},
     "output_type": "execute_result"
    }
   ],
   "source": [
    "df[\"sepal_length\"].skew()  # Right skew"
   ]
  },
  {
   "cell_type": "code",
   "execution_count": 14,
   "id": "b5ff9dc8",
   "metadata": {},
   "outputs": [],
   "source": [
    "import pylab"
   ]
  },
  {
   "cell_type": "code",
   "execution_count": 15,
   "id": "1b7f58ae",
   "metadata": {
    "scrolled": true
   },
   "outputs": [
    {
     "data": {
      "image/png": "[encoded data removed]",
      "text/plain": [
       "<Figure size 432x288 with 1 Axes>"
      ]
     },
     "metadata": {
      "needs_background": "light"
     },
     "output_type": "display_data"
    }
   ],
   "source": [
    "# QQ PLOT I.E QUANTILE-QUANTILE PLOT\n",
    "st.probplot(df[\"sepal_length\"],dist=\"norm\", plot=pylab);"
   ]
  },
  {
   "cell_type": "code",
   "execution_count": 16,
   "id": "9cca2f8b",
   "metadata": {},
   "outputs": [
    {
     "data": {
      "text/plain": [
       "0    120.0\n",
       "1    120.5\n",
       "2    121.0\n",
       "3    120.8\n",
       "4    130.0\n",
       "dtype: float64"
      ]
     },
     "execution_count": 16,
     "metadata": {},
     "output_type": "execute_result"
    }
   ],
   "source": [
    "h = pd.Series([120,120.5,121,120.8,130])\n",
    "h"
   ]
  },
  {
   "cell_type": "code",
   "execution_count": 17,
   "id": "48a02163",
   "metadata": {},
   "outputs": [],
   "source": [
    "m=h.mean()"
   ]
  },
  {
   "cell_type": "code",
   "execution_count": 18,
   "id": "0bbc272d",
   "metadata": {},
   "outputs": [],
   "source": [
    "s=h.std()"
   ]
  },
  {
   "cell_type": "code",
   "execution_count": 19,
   "id": "4d3d109b",
   "metadata": {},
   "outputs": [
    {
     "name": "stdout",
     "output_type": "stream",
     "text": [
      "0.0\n",
      "0.9\n"
     ]
    }
   ],
   "source": [
    "# HOW TO DO STANDARDISATION\n",
    "l = []\n",
    "for i in h :\n",
    "  z = (i-m)/s\n",
    "  l.append(z)\n",
    "arr = np.array(l)\n",
    "print(round(arr.mean(),2))\n",
    "print(round(arr.std(),1))"
   ]
  },
  {
   "cell_type": "code",
   "execution_count": 20,
   "id": "403685f5",
   "metadata": {},
   "outputs": [
    {
     "data": {
      "text/plain": [
       "0    0.92\n",
       "1    0.00\n",
       "2    0.45\n",
       "3    1.00\n",
       "4    0.23\n",
       "dtype: float64"
      ]
     },
     "execution_count": 20,
     "metadata": {},
     "output_type": "execute_result"
    }
   ],
   "source": [
    "d=pd.Series([.92,0,0.45,1,.23])\n",
    "d"
   ]
  },
  {
   "cell_type": "code",
   "execution_count": 21,
   "id": "aea672fd",
   "metadata": {},
   "outputs": [
    {
     "name": "stdout",
     "output_type": "stream",
     "text": [
      "0.52\n",
      "0.43295496301578534\n"
     ]
    }
   ],
   "source": [
    "print(d.mean())\n",
    "print(d.std())"
   ]
  },
  {
   "cell_type": "code",
   "execution_count": 22,
   "id": "bb30f1cc",
   "metadata": {},
   "outputs": [
    {
     "name": "stdout",
     "output_type": "stream",
     "text": [
      "0.9205607476635513\n",
      "0.0\n",
      "0.45794392523364463\n",
      "1.0\n",
      "0.23364485981308405\n"
     ]
    }
   ],
   "source": [
    "# HOW TO DO NORMALISATION.\n",
    "a = pd.Series([80.2,60.5,70.3,81.9,65.5])\n",
    "min = a.min()\n",
    "max = a.max()\n",
    "for i in a:\n",
    "  n = (i-min)/(max-min)\n",
    "  print(n)"
   ]
  },
  {
   "cell_type": "code",
   "execution_count": 23,
   "id": "59552ef2",
   "metadata": {},
   "outputs": [
    {
     "data": {
      "text/plain": [
       "sepal_length    0.314911\n",
       "sepal_width     0.318966\n",
       "petal_length   -0.274884\n",
       "petal_width    -0.102967\n",
       "dtype: float64"
      ]
     },
     "execution_count": 23,
     "metadata": {},
     "output_type": "execute_result"
    }
   ],
   "source": [
    "# to check the skewness in the data\n",
    "df.skew()  \n"
   ]
  },
  {
   "cell_type": "code",
   "execution_count": 24,
   "id": "e0069df5",
   "metadata": {},
   "outputs": [
    {
     "data": {
      "text/plain": [
       "sepal_length   -0.552064\n",
       "sepal_width     0.228249\n",
       "petal_length   -1.402103\n",
       "petal_width    -1.340604\n",
       "dtype: float64"
      ]
     },
     "execution_count": 24,
     "metadata": {},
     "output_type": "execute_result"
    }
   ],
   "source": [
    "# to know the kurtosis in the data\n",
    "\n",
    "df.kurtosis()"
   ]
  },
  {
   "cell_type": "code",
   "execution_count": 25,
   "id": "3b0e7e77",
   "metadata": {},
   "outputs": [
    {
     "data": {
      "text/html": [
       "<div>\n",
       "<style scoped>\n",
       "    .dataframe tbody tr th:only-of-type {\n",
       "        vertical-align: middle;\n",
       "    }\n",
       "\n",
       "    .dataframe tbody tr th {\n",
       "        vertical-align: top;\n",
       "    }\n",
       "\n",
       "    .dataframe thead th {\n",
       "        text-align: right;\n",
       "    }\n",
       "</style>\n",
       "<table border=\"1\" class=\"dataframe\">\n",
       "  <thead>\n",
       "    <tr style=\"text-align: right;\">\n",
       "      <th></th>\n",
       "      <th>patient</th>\n",
       "      <th>sex</th>\n",
       "      <th>agegrp</th>\n",
       "      <th>bp_before</th>\n",
       "      <th>bp_after</th>\n",
       "    </tr>\n",
       "  </thead>\n",
       "  <tbody>\n",
       "    <tr>\n",
       "      <th>0</th>\n",
       "      <td>1</td>\n",
       "      <td>Male</td>\n",
       "      <td>30-45</td>\n",
       "      <td>143</td>\n",
       "      <td>153</td>\n",
       "    </tr>\n",
       "    <tr>\n",
       "      <th>1</th>\n",
       "      <td>2</td>\n",
       "      <td>Male</td>\n",
       "      <td>30-45</td>\n",
       "      <td>163</td>\n",
       "      <td>170</td>\n",
       "    </tr>\n",
       "    <tr>\n",
       "      <th>2</th>\n",
       "      <td>3</td>\n",
       "      <td>Male</td>\n",
       "      <td>30-45</td>\n",
       "      <td>153</td>\n",
       "      <td>168</td>\n",
       "    </tr>\n",
       "  </tbody>\n",
       "</table>\n",
       "</div>"
      ],
      "text/plain": [
       "   patient   sex agegrp  bp_before  bp_after\n",
       "0        1  Male  30-45        143       153\n",
       "1        2  Male  30-45        163       170\n",
       "2        3  Male  30-45        153       168"
      ]
     },
     "execution_count": 25,
     "metadata": {},
     "output_type": "execute_result"
    }
   ],
   "source": [
    "df=pd.read_csv(\"C:\\\\Users\\\\user\\\\Downloads\\\\bloodpressure.csv\")\n",
    "df.head(3)"
   ]
  },
  {
   "cell_type": "code",
   "execution_count": 26,
   "id": "833ae0fb",
   "metadata": {},
   "outputs": [
    {
     "data": {
      "image/png": "[encoded data removed]",
      "text/plain": [
       "<Figure size 432x288 with 1 Axes>"
      ]
     },
     "metadata": {
      "needs_background": "light"
     },
     "output_type": "display_data"
    }
   ],
   "source": [
    "st.probplot(df[\"bp_before\"], dist=\"norm\", plot= pylab);"
   ]
  },
  {
   "cell_type": "code",
   "execution_count": 27,
   "id": "eccd8aaa",
   "metadata": {},
   "outputs": [],
   "source": [
    "df[\"bpb\"]=np.log(df[\"bp_before\"])"
   ]
  },
  {
   "cell_type": "code",
   "execution_count": 28,
   "id": "35c8c222",
   "metadata": {},
   "outputs": [
    {
     "data": {
      "image/png": "[encoded data removed]",
      "text/plain": [
       "<Figure size 432x288 with 1 Axes>"
      ]
     },
     "metadata": {
      "needs_background": "light"
     },
     "output_type": "display_data"
    }
   ],
   "source": [
    "st.probplot(df[\"bpb\"], dist=\"norm\", plot= pylab);"
   ]
  },
  {
   "cell_type": "code",
   "execution_count": 29,
   "id": "35933d7f",
   "metadata": {},
   "outputs": [],
   "source": [
    "df[\"bpb\"]=np.exp(df[\"bp_before\"])"
   ]
  },
  {
   "cell_type": "code",
   "execution_count": 30,
   "id": "911dbfd1",
   "metadata": {},
   "outputs": [
    {
     "data": {
      "image/png": "[encoded data removed]",
      "text/plain": [
       "<Figure size 432x288 with 1 Axes>"
      ]
     },
     "metadata": {
      "needs_background": "light"
     },
     "output_type": "display_data"
    }
   ],
   "source": [
    "st.probplot(df[\"bpb\"], dist=\"norm\", plot= pylab);"
   ]
  },
  {
   "cell_type": "code",
   "execution_count": 31,
   "id": "91286936",
   "metadata": {},
   "outputs": [
    {
     "data": {
      "text/plain": [
       "(array([0.33448307, 0.33448311, 0.33448309, 0.33448309, 0.33448308,\n",
       "        0.33448308, 0.33448308, 0.33448309, 0.33448309, 0.3344831 ,\n",
       "        0.33448308, 0.33448312, 0.33448311, 0.33448307, 0.33448307,\n",
       "        0.33448309, 0.33448306, 0.33448312, 0.33448307, 0.33448311,\n",
       "        0.33448308, 0.3344831 , 0.33448309, 0.3344831 , 0.33448311,\n",
       "        0.33448309, 0.33448309, 0.33448307, 0.33448311, 0.33448309,\n",
       "        0.33448312, 0.33448313, 0.33448311, 0.33448308, 0.33448312,\n",
       "        0.3344831 , 0.33448308, 0.33448306, 0.33448313, 0.3344831 ,\n",
       "        0.3344831 , 0.3344831 , 0.33448311, 0.3344831 , 0.33448313,\n",
       "        0.33448309, 0.33448312, 0.3344831 , 0.33448312, 0.33448312,\n",
       "        0.33448312, 0.33448312, 0.33448312, 0.33448312, 0.33448312,\n",
       "        0.33448311, 0.33448308, 0.33448309, 0.33448312, 0.33448311,\n",
       "        0.33448309, 0.33448308, 0.33448307, 0.33448307, 0.3344831 ,\n",
       "        0.33448308, 0.33448309, 0.33448309, 0.33448308, 0.33448305,\n",
       "        0.33448311, 0.3344831 , 0.33448306, 0.33448311, 0.33448308,\n",
       "        0.33448307, 0.33448307, 0.33448311, 0.33448308, 0.33448307,\n",
       "        0.3344831 , 0.33448312, 0.33448308, 0.33448308, 0.33448311,\n",
       "        0.33448309, 0.33448307, 0.3344831 , 0.33448308, 0.3344831 ,\n",
       "        0.33448307, 0.33448311, 0.33448307, 0.33448307, 0.3344831 ,\n",
       "        0.33448306, 0.33448307, 0.33448307, 0.33448307, 0.33448307,\n",
       "        0.33448311, 0.33448307, 0.33448308, 0.33448308, 0.33448311,\n",
       "        0.33448312, 0.33448312, 0.33448309, 0.33448309, 0.33448311,\n",
       "        0.33448313, 0.3344831 , 0.33448308, 0.33448309, 0.33448311,\n",
       "        0.33448309, 0.3344831 , 0.33448311, 0.33448308, 0.33448313]),\n",
       " -2.9896868809483887)"
      ]
     },
     "execution_count": 31,
     "metadata": {},
     "output_type": "execute_result"
    }
   ],
   "source": [
    "x=st.boxcox(df[\"bp_before\"])\n",
    "x"
   ]
  },
  {
   "cell_type": "code",
   "execution_count": 32,
   "id": "f9065b8e",
   "metadata": {},
   "outputs": [
    {
     "data": {
      "image/png": "[encoded data removed]",
      "text/plain": [
       "<Figure size 432x288 with 1 Axes>"
      ]
     },
     "metadata": {
      "needs_background": "light"
     },
     "output_type": "display_data"
    }
   ],
   "source": [
    "st.probplot(x[0], dist=\"norm\", plot= pylab);"
   ]
  },
  {
   "cell_type": "code",
   "execution_count": 33,
   "id": "d0bcee21",
   "metadata": {},
   "outputs": [
    {
     "data": {
      "text/plain": [
       "25.694537815126054"
      ]
     },
     "execution_count": 33,
     "metadata": {},
     "output_type": "execute_result"
    }
   ],
   "source": [
    "x_bar  = df[\"bp_before\"].mean()\n",
    "y_bar  = df[\"bp_after\"].mean()\n",
    "x11,x22 = [],[]\n",
    "for i in df[\"bp_before\"]:\n",
    "  x1 = i-x_bar\n",
    "  x11.append(x1)\n",
    "for j in df[\"bp_after\"]:\n",
    "  x2 = j-y_bar\n",
    "  x22.append(x2)\n",
    "cov = (np.array(x11)*np.array(x22)).sum()/(df.shape[0]-1)\n",
    "cov"
   ]
  },
  {
   "cell_type": "code",
   "execution_count": 34,
   "id": "83f4a475",
   "metadata": {},
   "outputs": [],
   "source": [
    "sigma_x = df[\"bp_before\"].std()\n",
    "sigma_y = df[\"bp_after\"].std()"
   ]
  },
  {
   "cell_type": "code",
   "execution_count": 35,
   "id": "8122d32e",
   "metadata": {},
   "outputs": [
    {
     "data": {
      "text/plain": [
       "0.15911810291010767"
      ]
     },
     "execution_count": 35,
     "metadata": {},
     "output_type": "execute_result"
    }
   ],
   "source": [
    "cov/(sigma_x*sigma_y)"
   ]
  },
  {
   "cell_type": "code",
   "execution_count": 36,
   "id": "78f7a2e5",
   "metadata": {},
   "outputs": [
    {
     "data": {
      "text/html": [
       "<div>\n",
       "<style scoped>\n",
       "    .dataframe tbody tr th:only-of-type {\n",
       "        vertical-align: middle;\n",
       "    }\n",
       "\n",
       "    .dataframe tbody tr th {\n",
       "        vertical-align: top;\n",
       "    }\n",
       "\n",
       "    .dataframe thead th {\n",
       "        text-align: right;\n",
       "    }\n",
       "</style>\n",
       "<table border=\"1\" class=\"dataframe\">\n",
       "  <thead>\n",
       "    <tr style=\"text-align: right;\">\n",
       "      <th></th>\n",
       "      <th>patient</th>\n",
       "      <th>sex</th>\n",
       "      <th>agegrp</th>\n",
       "      <th>bp_before</th>\n",
       "      <th>bp_after</th>\n",
       "      <th>bpb</th>\n",
       "    </tr>\n",
       "  </thead>\n",
       "  <tbody>\n",
       "    <tr>\n",
       "      <th>0</th>\n",
       "      <td>1</td>\n",
       "      <td>Male</td>\n",
       "      <td>30-45</td>\n",
       "      <td>143</td>\n",
       "      <td>153</td>\n",
       "      <td>1.270899e+62</td>\n",
       "    </tr>\n",
       "    <tr>\n",
       "      <th>1</th>\n",
       "      <td>2</td>\n",
       "      <td>Male</td>\n",
       "      <td>30-45</td>\n",
       "      <td>163</td>\n",
       "      <td>170</td>\n",
       "      <td>6.165958e+70</td>\n",
       "    </tr>\n",
       "    <tr>\n",
       "      <th>2</th>\n",
       "      <td>3</td>\n",
       "      <td>Male</td>\n",
       "      <td>30-45</td>\n",
       "      <td>153</td>\n",
       "      <td>168</td>\n",
       "      <td>2.799341e+66</td>\n",
       "    </tr>\n",
       "    <tr>\n",
       "      <th>3</th>\n",
       "      <td>4</td>\n",
       "      <td>Male</td>\n",
       "      <td>30-45</td>\n",
       "      <td>153</td>\n",
       "      <td>142</td>\n",
       "      <td>2.799341e+66</td>\n",
       "    </tr>\n",
       "    <tr>\n",
       "      <th>4</th>\n",
       "      <td>5</td>\n",
       "      <td>Male</td>\n",
       "      <td>30-45</td>\n",
       "      <td>146</td>\n",
       "      <td>141</td>\n",
       "      <td>2.552668e+63</td>\n",
       "    </tr>\n",
       "    <tr>\n",
       "      <th>...</th>\n",
       "      <td>...</td>\n",
       "      <td>...</td>\n",
       "      <td>...</td>\n",
       "      <td>...</td>\n",
       "      <td>...</td>\n",
       "      <td>...</td>\n",
       "    </tr>\n",
       "    <tr>\n",
       "      <th>115</th>\n",
       "      <td>116</td>\n",
       "      <td>Female</td>\n",
       "      <td>60+</td>\n",
       "      <td>152</td>\n",
       "      <td>152</td>\n",
       "      <td>1.029820e+66</td>\n",
       "    </tr>\n",
       "    <tr>\n",
       "      <th>116</th>\n",
       "      <td>117</td>\n",
       "      <td>Female</td>\n",
       "      <td>60+</td>\n",
       "      <td>161</td>\n",
       "      <td>152</td>\n",
       "      <td>8.344716e+69</td>\n",
       "    </tr>\n",
       "    <tr>\n",
       "      <th>117</th>\n",
       "      <td>118</td>\n",
       "      <td>Female</td>\n",
       "      <td>60+</td>\n",
       "      <td>165</td>\n",
       "      <td>174</td>\n",
       "      <td>4.556061e+71</td>\n",
       "    </tr>\n",
       "    <tr>\n",
       "      <th>118</th>\n",
       "      <td>119</td>\n",
       "      <td>Female</td>\n",
       "      <td>60+</td>\n",
       "      <td>149</td>\n",
       "      <td>151</td>\n",
       "      <td>5.127171e+64</td>\n",
       "    </tr>\n",
       "    <tr>\n",
       "      <th>119</th>\n",
       "      <td>120</td>\n",
       "      <td>Female</td>\n",
       "      <td>60+</td>\n",
       "      <td>185</td>\n",
       "      <td>163</td>\n",
       "      <td>2.210442e+80</td>\n",
       "    </tr>\n",
       "  </tbody>\n",
       "</table>\n",
       "<p>120 rows × 6 columns</p>\n",
       "</div>"
      ],
      "text/plain": [
       "     patient     sex agegrp  bp_before  bp_after           bpb\n",
       "0          1    Male  30-45        143       153  1.270899e+62\n",
       "1          2    Male  30-45        163       170  6.165958e+70\n",
       "2          3    Male  30-45        153       168  2.799341e+66\n",
       "3          4    Male  30-45        153       142  2.799341e+66\n",
       "4          5    Male  30-45        146       141  2.552668e+63\n",
       "..       ...     ...    ...        ...       ...           ...\n",
       "115      116  Female    60+        152       152  1.029820e+66\n",
       "116      117  Female    60+        161       152  8.344716e+69\n",
       "117      118  Female    60+        165       174  4.556061e+71\n",
       "118      119  Female    60+        149       151  5.127171e+64\n",
       "119      120  Female    60+        185       163  2.210442e+80\n",
       "\n",
       "[120 rows x 6 columns]"
      ]
     },
     "execution_count": 36,
     "metadata": {},
     "output_type": "execute_result"
    }
   ],
   "source": [
    "df"
   ]
  },
  {
   "cell_type": "code",
   "execution_count": 37,
   "id": "e70d368f",
   "metadata": {},
   "outputs": [],
   "source": [
    "df1 = sns.load_dataset(\"iris\")"
   ]
  },
  {
   "cell_type": "code",
   "execution_count": 38,
   "id": "0e7d19d0",
   "metadata": {},
   "outputs": [
    {
     "data": {
      "text/html": [
       "<div>\n",
       "<style scoped>\n",
       "    .dataframe tbody tr th:only-of-type {\n",
       "        vertical-align: middle;\n",
       "    }\n",
       "\n",
       "    .dataframe tbody tr th {\n",
       "        vertical-align: top;\n",
       "    }\n",
       "\n",
       "    .dataframe thead th {\n",
       "        text-align: right;\n",
       "    }\n",
       "</style>\n",
       "<table border=\"1\" class=\"dataframe\">\n",
       "  <thead>\n",
       "    <tr style=\"text-align: right;\">\n",
       "      <th></th>\n",
       "      <th>patient</th>\n",
       "      <th>bp_before</th>\n",
       "      <th>bp_after</th>\n",
       "      <th>bpb</th>\n",
       "    </tr>\n",
       "  </thead>\n",
       "  <tbody>\n",
       "    <tr>\n",
       "      <th>patient</th>\n",
       "      <td>1.000000</td>\n",
       "      <td>-0.040663</td>\n",
       "      <td>-0.041343</td>\n",
       "      <td>-0.040663</td>\n",
       "    </tr>\n",
       "    <tr>\n",
       "      <th>bp_before</th>\n",
       "      <td>-0.040663</td>\n",
       "      <td>1.000000</td>\n",
       "      <td>0.153100</td>\n",
       "      <td>1.000000</td>\n",
       "    </tr>\n",
       "    <tr>\n",
       "      <th>bp_after</th>\n",
       "      <td>-0.041343</td>\n",
       "      <td>0.153100</td>\n",
       "      <td>1.000000</td>\n",
       "      <td>0.153100</td>\n",
       "    </tr>\n",
       "    <tr>\n",
       "      <th>bpb</th>\n",
       "      <td>-0.040663</td>\n",
       "      <td>1.000000</td>\n",
       "      <td>0.153100</td>\n",
       "      <td>1.000000</td>\n",
       "    </tr>\n",
       "  </tbody>\n",
       "</table>\n",
       "</div>"
      ],
      "text/plain": [
       "            patient  bp_before  bp_after       bpb\n",
       "patient    1.000000  -0.040663 -0.041343 -0.040663\n",
       "bp_before -0.040663   1.000000  0.153100  1.000000\n",
       "bp_after  -0.041343   0.153100  1.000000  0.153100\n",
       "bpb       -0.040663   1.000000  0.153100  1.000000"
      ]
     },
     "execution_count": 38,
     "metadata": {},
     "output_type": "execute_result"
    }
   ],
   "source": [
    "df.corr(method = \"spearman\")"
   ]
  },
  {
   "cell_type": "markdown",
   "id": "66c5f690",
   "metadata": {},
   "source": [
    "# INFERENTIAL STATS :\n",
    "\n",
    "INFER MEANS TO CONCLUDE"
   ]
  },
  {
   "cell_type": "markdown",
   "id": "146863b8",
   "metadata": {},
   "source": [
    "# Z- Test:\n",
    "\n",
    "When to apply Z-Test :\n",
    "\n",
    "1. When Data is normally distributed.\n",
    "\n",
    "2. The number of sample size should be more than 30.\n",
    "\n",
    "3. Sample mean should be known.\n",
    "\n",
    "4. Population standard deviation should be known."
   ]
  },
  {
   "cell_type": "code",
   "execution_count": 39,
   "id": "d556d1cb",
   "metadata": {},
   "outputs": [
    {
     "name": "stdout",
     "output_type": "stream",
     "text": [
      "Help on function ztest in module statsmodels.stats.weightstats:\n",
      "\n",
      "ztest(x1, x2=None, value=0, alternative='two-sided', usevar='pooled', ddof=1.0)\n",
      "    test for mean based on normal distribution, one or two samples\n",
      "    \n",
      "    In the case of two samples, the samples are assumed to be independent.\n",
      "    \n",
      "    Parameters\n",
      "    ----------\n",
      "    x1 : array_like, 1-D or 2-D\n",
      "        first of the two independent samples\n",
      "    x2 : array_like, 1-D or 2-D\n",
      "        second of the two independent samples\n",
      "    value : float\n",
      "        In the one sample case, value is the mean of x1 under the Null\n",
      "        hypothesis.\n",
      "        In the two sample case, value is the difference between mean of x1 and\n",
      "        mean of x2 under the Null hypothesis. The test statistic is\n",
      "        `x1_mean - x2_mean - value`.\n",
      "    alternative : str\n",
      "        The alternative hypothesis, H1, has to be one of the following\n",
      "    \n",
      "           'two-sided': H1: difference in means not equal to value (default)\n",
      "           'larger' :   H1: difference in means larger than value\n",
      "           'smaller' :  H1: difference in means smaller than value\n",
      "    \n",
      "    usevar : str, 'pooled'\n",
      "        Currently, only 'pooled' is implemented.\n",
      "        If ``pooled``, then the standard deviation of the samples is assumed to be\n",
      "        the same. see CompareMeans.ztest_ind for different options.\n",
      "    ddof : int\n",
      "        Degrees of freedom use in the calculation of the variance of the mean\n",
      "        estimate. In the case of comparing means this is one, however it can\n",
      "        be adjusted for testing other statistics (proportion, correlation)\n",
      "    \n",
      "    Returns\n",
      "    -------\n",
      "    tstat : float\n",
      "        test statistic\n",
      "    pvalue : float\n",
      "        pvalue of the t-test\n",
      "    \n",
      "    Notes\n",
      "    -----\n",
      "    usevar not implemented, is always pooled in two sample case\n",
      "    use CompareMeans instead.\n",
      "\n"
     ]
    }
   ],
   "source": [
    "help(zt)"
   ]
  },
  {
   "cell_type": "code",
   "execution_count": 40,
   "id": "040cc18a",
   "metadata": {},
   "outputs": [
    {
     "data": {
      "text/html": [
       "<div>\n",
       "<style scoped>\n",
       "    .dataframe tbody tr th:only-of-type {\n",
       "        vertical-align: middle;\n",
       "    }\n",
       "\n",
       "    .dataframe tbody tr th {\n",
       "        vertical-align: top;\n",
       "    }\n",
       "\n",
       "    .dataframe thead th {\n",
       "        text-align: right;\n",
       "    }\n",
       "</style>\n",
       "<table border=\"1\" class=\"dataframe\">\n",
       "  <thead>\n",
       "    <tr style=\"text-align: right;\">\n",
       "      <th></th>\n",
       "      <th>patient</th>\n",
       "      <th>sex</th>\n",
       "      <th>agegrp</th>\n",
       "      <th>bp_before</th>\n",
       "      <th>bp_after</th>\n",
       "    </tr>\n",
       "  </thead>\n",
       "  <tbody>\n",
       "    <tr>\n",
       "      <th>0</th>\n",
       "      <td>1</td>\n",
       "      <td>Male</td>\n",
       "      <td>30-45</td>\n",
       "      <td>143</td>\n",
       "      <td>153</td>\n",
       "    </tr>\n",
       "    <tr>\n",
       "      <th>1</th>\n",
       "      <td>2</td>\n",
       "      <td>Male</td>\n",
       "      <td>30-45</td>\n",
       "      <td>163</td>\n",
       "      <td>170</td>\n",
       "    </tr>\n",
       "    <tr>\n",
       "      <th>2</th>\n",
       "      <td>3</td>\n",
       "      <td>Male</td>\n",
       "      <td>30-45</td>\n",
       "      <td>153</td>\n",
       "      <td>168</td>\n",
       "    </tr>\n",
       "    <tr>\n",
       "      <th>3</th>\n",
       "      <td>4</td>\n",
       "      <td>Male</td>\n",
       "      <td>30-45</td>\n",
       "      <td>153</td>\n",
       "      <td>142</td>\n",
       "    </tr>\n",
       "    <tr>\n",
       "      <th>4</th>\n",
       "      <td>5</td>\n",
       "      <td>Male</td>\n",
       "      <td>30-45</td>\n",
       "      <td>146</td>\n",
       "      <td>141</td>\n",
       "    </tr>\n",
       "    <tr>\n",
       "      <th>...</th>\n",
       "      <td>...</td>\n",
       "      <td>...</td>\n",
       "      <td>...</td>\n",
       "      <td>...</td>\n",
       "      <td>...</td>\n",
       "    </tr>\n",
       "    <tr>\n",
       "      <th>115</th>\n",
       "      <td>116</td>\n",
       "      <td>Female</td>\n",
       "      <td>60+</td>\n",
       "      <td>152</td>\n",
       "      <td>152</td>\n",
       "    </tr>\n",
       "    <tr>\n",
       "      <th>116</th>\n",
       "      <td>117</td>\n",
       "      <td>Female</td>\n",
       "      <td>60+</td>\n",
       "      <td>161</td>\n",
       "      <td>152</td>\n",
       "    </tr>\n",
       "    <tr>\n",
       "      <th>117</th>\n",
       "      <td>118</td>\n",
       "      <td>Female</td>\n",
       "      <td>60+</td>\n",
       "      <td>165</td>\n",
       "      <td>174</td>\n",
       "    </tr>\n",
       "    <tr>\n",
       "      <th>118</th>\n",
       "      <td>119</td>\n",
       "      <td>Female</td>\n",
       "      <td>60+</td>\n",
       "      <td>149</td>\n",
       "      <td>151</td>\n",
       "    </tr>\n",
       "    <tr>\n",
       "      <th>119</th>\n",
       "      <td>120</td>\n",
       "      <td>Female</td>\n",
       "      <td>60+</td>\n",
       "      <td>185</td>\n",
       "      <td>163</td>\n",
       "    </tr>\n",
       "  </tbody>\n",
       "</table>\n",
       "<p>120 rows × 5 columns</p>\n",
       "</div>"
      ],
      "text/plain": [
       "     patient     sex agegrp  bp_before  bp_after\n",
       "0          1    Male  30-45        143       153\n",
       "1          2    Male  30-45        163       170\n",
       "2          3    Male  30-45        153       168\n",
       "3          4    Male  30-45        153       142\n",
       "4          5    Male  30-45        146       141\n",
       "..       ...     ...    ...        ...       ...\n",
       "115      116  Female    60+        152       152\n",
       "116      117  Female    60+        161       152\n",
       "117      118  Female    60+        165       174\n",
       "118      119  Female    60+        149       151\n",
       "119      120  Female    60+        185       163\n",
       "\n",
       "[120 rows x 5 columns]"
      ]
     },
     "execution_count": 40,
     "metadata": {},
     "output_type": "execute_result"
    }
   ],
   "source": [
    "df2=pd.read_csv(\"C:\\\\Users\\\\user\\\\Downloads\\\\bloodpressure.csv\")\n",
    "df2"
   ]
  },
  {
   "cell_type": "markdown",
   "id": "540e211b",
   "metadata": {},
   "source": [
    "How to test one sample :"
   ]
  },
  {
   "cell_type": "code",
   "execution_count": 41,
   "id": "04409884",
   "metadata": {},
   "outputs": [
    {
     "data": {
      "text/plain": [
       "156.45"
      ]
     },
     "execution_count": 41,
     "metadata": {},
     "output_type": "execute_result"
    }
   ],
   "source": [
    "df2[\"bp_before\"].mean()"
   ]
  },
  {
   "cell_type": "code",
   "execution_count": 42,
   "id": "3f65275e",
   "metadata": {},
   "outputs": [
    {
     "data": {
      "text/plain": [
       "40"
      ]
     },
     "execution_count": 42,
     "metadata": {},
     "output_type": "execute_result"
    }
   ],
   "source": [
    "x1 = df2[\"bp_before\"][0:40]\n",
    "len(x1)"
   ]
  },
  {
   "cell_type": "code",
   "execution_count": 43,
   "id": "02a53d85",
   "metadata": {},
   "outputs": [],
   "source": [
    "x1_mean = x1.mean()"
   ]
  },
  {
   "cell_type": "code",
   "execution_count": 44,
   "id": "fa202f62",
   "metadata": {},
   "outputs": [
    {
     "data": {
      "text/plain": [
       "156.25"
      ]
     },
     "execution_count": 44,
     "metadata": {},
     "output_type": "execute_result"
    }
   ],
   "source": [
    "x1_mean"
   ]
  },
  {
   "cell_type": "code",
   "execution_count": 45,
   "id": "5aa33418",
   "metadata": {},
   "outputs": [
    {
     "data": {
      "text/plain": [
       "11.443842818806035"
      ]
     },
     "execution_count": 45,
     "metadata": {},
     "output_type": "execute_result"
    }
   ],
   "source": [
    "x1_std = x1.std()\n",
    "x1_std"
   ]
  },
  {
   "cell_type": "code",
   "execution_count": 46,
   "id": "c1d8f075",
   "metadata": {},
   "outputs": [],
   "source": [
    "n = 40"
   ]
  },
  {
   "cell_type": "code",
   "execution_count": 47,
   "id": "145266fe",
   "metadata": {},
   "outputs": [],
   "source": [
    "z_val,p_val = zt(x1,value = 156,alternative = \"two-sided\")"
   ]
  },
  {
   "cell_type": "code",
   "execution_count": 48,
   "id": "77bdaae5",
   "metadata": {},
   "outputs": [
    {
     "data": {
      "text/plain": [
       "0.1381650250810727"
      ]
     },
     "execution_count": 48,
     "metadata": {},
     "output_type": "execute_result"
    }
   ],
   "source": [
    "z_val"
   ]
  },
  {
   "cell_type": "code",
   "execution_count": 49,
   "id": "d90db0c3",
   "metadata": {},
   "outputs": [
    {
     "data": {
      "text/plain": [
       "0.890109995889419"
      ]
     },
     "execution_count": 49,
     "metadata": {},
     "output_type": "execute_result"
    }
   ],
   "source": [
    "p_val"
   ]
  },
  {
   "cell_type": "code",
   "execution_count": 50,
   "id": "b0dfbd0f",
   "metadata": {},
   "outputs": [
    {
     "name": "stdout",
     "output_type": "stream",
     "text": [
      "accept null hypo\n"
     ]
    }
   ],
   "source": [
    "alpha = 0.05\n",
    "if p_val<alpha:\n",
    "  print(\"reject null hypo\")\n",
    "else:\n",
    "  print(\"accept null hypo\")"
   ]
  },
  {
   "cell_type": "code",
   "execution_count": 51,
   "id": "d9d14fb4",
   "metadata": {},
   "outputs": [
    {
     "data": {
      "text/plain": [
       "(156.0, 156.5)"
      ]
     },
     "execution_count": 51,
     "metadata": {},
     "output_type": "execute_result"
    }
   ],
   "source": [
    "ci_neg = x1.mean() - z_val*(x1.std()/np.sqrt(n))\n",
    "ci_pos = x1.mean() + z_val*(x1.std()/np.sqrt(n))\n",
    "ci_neg,ci_pos"
   ]
  },
  {
   "cell_type": "code",
   "execution_count": 52,
   "id": "665eee65",
   "metadata": {},
   "outputs": [
    {
     "data": {
      "text/plain": [
       "0     153\n",
       "1     170\n",
       "2     168\n",
       "3     142\n",
       "4     141\n",
       "5     147\n",
       "6     133\n",
       "7     141\n",
       "8     131\n",
       "9     125\n",
       "10    164\n",
       "11    159\n",
       "12    135\n",
       "13    159\n",
       "14    153\n",
       "15    126\n",
       "16    162\n",
       "17    134\n",
       "18    136\n",
       "19    150\n",
       "20    168\n",
       "21    155\n",
       "22    136\n",
       "23    132\n",
       "24    160\n",
       "25    160\n",
       "26    136\n",
       "27    183\n",
       "28    152\n",
       "29    162\n",
       "30    151\n",
       "31    139\n",
       "32    175\n",
       "33    184\n",
       "34    151\n",
       "35    171\n",
       "36    157\n",
       "37    159\n",
       "38    140\n",
       "39    174\n",
       "Name: bp_after, dtype: int64"
      ]
     },
     "execution_count": 52,
     "metadata": {},
     "output_type": "execute_result"
    }
   ],
   "source": [
    "x2 = df2[\"bp_after\"][0:40]\n",
    "x2"
   ]
  },
  {
   "cell_type": "code",
   "execution_count": 53,
   "id": "6fc71d8b",
   "metadata": {},
   "outputs": [
    {
     "data": {
      "text/plain": [
       "151.85"
      ]
     },
     "execution_count": 53,
     "metadata": {},
     "output_type": "execute_result"
    }
   ],
   "source": [
    "x2.mean()"
   ]
  },
  {
   "cell_type": "code",
   "execution_count": 54,
   "id": "33350844",
   "metadata": {},
   "outputs": [
    {
     "data": {
      "text/plain": [
       "4.400000000000006"
      ]
     },
     "execution_count": 54,
     "metadata": {},
     "output_type": "execute_result"
    }
   ],
   "source": [
    "x1.mean()-x2.mean()"
   ]
  },
  {
   "cell_type": "markdown",
   "id": "a262547e",
   "metadata": {},
   "source": [
    "How to test two sample:-"
   ]
  },
  {
   "cell_type": "code",
   "execution_count": 55,
   "id": "e0ed781d",
   "metadata": {},
   "outputs": [
    {
     "name": "stdout",
     "output_type": "stream",
     "text": [
      "-14.890047164888633\n",
      "0.0\n",
      "reject Null Hypo\n"
     ]
    }
   ],
   "source": [
    "z_val , p_val = zt(x1,x2,value = 50,alternative = \"two-sided\")\n",
    "print(z_val)\n",
    "print(round(p_val,2))\n",
    "alpha = 0.05\n",
    "if p_val<alpha:\n",
    "  print(\"reject Null Hypo\")\n",
    "else:\n",
    "  print(\"Accept Null hypo\")"
   ]
  },
  {
   "cell_type": "markdown",
   "id": "66d5bd09",
   "metadata": {},
   "source": [
    "# T - test :\n",
    "\n",
    "n<30 and pop var unknown and normality of distribution \n"
   ]
  },
  {
   "cell_type": "code",
   "execution_count": 56,
   "id": "03d07870",
   "metadata": {},
   "outputs": [
    {
     "data": {
      "text/plain": [
       "array([29.68099576, 25.7348967 , 34.15690908, 20.5738923 , 30.23395161,\n",
       "       22.58227349, 20.91747783, 34.95129434, 34.25970699, 30.43459266,\n",
       "       38.17304902, 30.33056846, 28.02478188, 36.26821842, 39.46449305,\n",
       "       29.21464489, 30.75841341, 22.28769498, 31.00942874, 20.94255987,\n",
       "       33.28377432, 31.31549689, 29.9265726 , 30.54114165, 29.98060785,\n",
       "       31.99509463, 27.03842877, 31.56078942, 28.60328811, 34.03962803,\n",
       "       27.38735013, 30.79221772, 29.25590078, 35.00799883, 24.84637711,\n",
       "       23.17777296, 32.68551541, 38.20981363, 33.53782452, 26.36142744,\n",
       "       28.83196121, 32.28560387, 32.62116655, 41.0229927 , 31.17890806,\n",
       "       23.90166552, 34.28022106, 25.41928779, 31.69082595, 24.72457652,\n",
       "       30.61409558, 31.85980151, 24.4447146 , 28.09198445, 28.00237608,\n",
       "       25.99723728, 22.82365348, 25.89282602, 16.69490666, 28.70210429,\n",
       "       30.68539108, 36.01801457, 27.60806123, 30.20916903, 24.34174821,\n",
       "       29.5956999 , 31.27752287, 31.43914936, 27.47449501, 43.34249292,\n",
       "       28.45866844, 25.45275949, 26.45268441, 33.96840675, 24.72991287,\n",
       "       35.42763631, 33.73937479, 20.60128539, 25.33149737, 30.10319778,\n",
       "       28.0612513 , 41.68083439, 34.14119521, 25.85404273, 25.49159002,\n",
       "       31.75020583, 31.93109569, 23.79444705, 24.73074123, 35.85861819,\n",
       "       28.65609003, 30.46402626, 33.97231972, 28.84617477, 28.19042021,\n",
       "       20.26845089, 26.78068559, 32.774858  , 36.58770705, 32.68941487])"
      ]
     },
     "execution_count": 56,
     "metadata": {},
     "output_type": "execute_result"
    }
   ],
   "source": [
    "x = np.random.normal(loc = 30,scale = 5,size = 100)\n",
    "x"
   ]
  },
  {
   "cell_type": "code",
   "execution_count": 57,
   "id": "5eff7ad1",
   "metadata": {},
   "outputs": [
    {
     "data": {
      "text/plain": [
       "0.12284114501567527"
      ]
     },
     "execution_count": 57,
     "metadata": {},
     "output_type": "execute_result"
    }
   ],
   "source": [
    "pd.Series(x).skew()"
   ]
  },
  {
   "cell_type": "code",
   "execution_count": 58,
   "id": "045b0787",
   "metadata": {},
   "outputs": [
    {
     "data": {
      "text/plain": [
       "0.2340779770571766"
      ]
     },
     "execution_count": 58,
     "metadata": {},
     "output_type": "execute_result"
    }
   ],
   "source": [
    "pd.Series(x).kurtosis()"
   ]
  },
  {
   "cell_type": "code",
   "execution_count": 59,
   "id": "20811a29",
   "metadata": {},
   "outputs": [],
   "source": [
    "x1 = x[90:100]"
   ]
  },
  {
   "cell_type": "code",
   "execution_count": 60,
   "id": "76de4b44",
   "metadata": {},
   "outputs": [
    {
     "data": {
      "text/plain": [
       "array([28.65609003, 30.46402626, 33.97231972, 28.84617477, 28.19042021,\n",
       "       20.26845089, 26.78068559, 32.774858  , 36.58770705, 32.68941487])"
      ]
     },
     "execution_count": 60,
     "metadata": {},
     "output_type": "execute_result"
    }
   ],
   "source": [
    "x1"
   ]
  },
  {
   "cell_type": "code",
   "execution_count": 61,
   "id": "8ce09353",
   "metadata": {},
   "outputs": [
    {
     "data": {
      "text/plain": [
       "29.92301473675231"
      ]
     },
     "execution_count": 61,
     "metadata": {},
     "output_type": "execute_result"
    }
   ],
   "source": [
    "x1.mean()"
   ]
  },
  {
   "cell_type": "code",
   "execution_count": 62,
   "id": "85b5b852",
   "metadata": {},
   "outputs": [
    {
     "name": "stdout",
     "output_type": "stream",
     "text": [
      "0.17327214057643434 : 0.8662718982034089\n"
     ]
    }
   ],
   "source": [
    "t_val , p_val = st.ttest_1samp(x1,x.mean())\n",
    "print(t_val,\":\",p_val)"
   ]
  },
  {
   "cell_type": "code",
   "execution_count": 63,
   "id": "9077f3b8",
   "metadata": {},
   "outputs": [],
   "source": [
    "# Two sample t-test"
   ]
  },
  {
   "cell_type": "code",
   "execution_count": 64,
   "id": "2c323e75",
   "metadata": {},
   "outputs": [],
   "source": [
    "x1= df2[\"bp_before\"][0:40]\n",
    "x2= df2[\"bp_after\"][0:40]"
   ]
  },
  {
   "cell_type": "code",
   "execution_count": 65,
   "id": "5e55e546",
   "metadata": {},
   "outputs": [
    {
     "name": "stdout",
     "output_type": "stream",
     "text": [
      "1.3347010727377813\n",
      "0.18971431308295203\n",
      "accept null hypothesis\n"
     ]
    }
   ],
   "source": [
    "t_value, p_value=st.stats.ttest_rel(x1,x2)\n",
    "print(t_value)\n",
    "print(p_value)\n",
    "if p_value<0.05:\n",
    "    print(\"Reject null hypothesis\")\n",
    "    \n",
    "else:\n",
    "    print(\"accept null hypothesis\")"
   ]
  },
  {
   "cell_type": "markdown",
   "id": "b1d96149",
   "metadata": {},
   "source": [
    "# CHI- SQUARE TEST"
   ]
  },
  {
   "cell_type": "code",
   "execution_count": 66,
   "id": "e8cbae7b",
   "metadata": {},
   "outputs": [
    {
     "data": {
      "text/html": [
       "<div>\n",
       "<style scoped>\n",
       "    .dataframe tbody tr th:only-of-type {\n",
       "        vertical-align: middle;\n",
       "    }\n",
       "\n",
       "    .dataframe tbody tr th {\n",
       "        vertical-align: top;\n",
       "    }\n",
       "\n",
       "    .dataframe thead th {\n",
       "        text-align: right;\n",
       "    }\n",
       "</style>\n",
       "<table border=\"1\" class=\"dataframe\">\n",
       "  <thead>\n",
       "    <tr style=\"text-align: right;\">\n",
       "      <th></th>\n",
       "      <th>total_bill</th>\n",
       "      <th>tip</th>\n",
       "      <th>sex</th>\n",
       "      <th>smoker</th>\n",
       "      <th>day</th>\n",
       "      <th>time</th>\n",
       "      <th>size</th>\n",
       "    </tr>\n",
       "  </thead>\n",
       "  <tbody>\n",
       "    <tr>\n",
       "      <th>0</th>\n",
       "      <td>16.99</td>\n",
       "      <td>1.01</td>\n",
       "      <td>Female</td>\n",
       "      <td>No</td>\n",
       "      <td>Sun</td>\n",
       "      <td>Dinner</td>\n",
       "      <td>2</td>\n",
       "    </tr>\n",
       "    <tr>\n",
       "      <th>1</th>\n",
       "      <td>10.34</td>\n",
       "      <td>1.66</td>\n",
       "      <td>Male</td>\n",
       "      <td>No</td>\n",
       "      <td>Sun</td>\n",
       "      <td>Dinner</td>\n",
       "      <td>3</td>\n",
       "    </tr>\n",
       "    <tr>\n",
       "      <th>2</th>\n",
       "      <td>21.01</td>\n",
       "      <td>3.50</td>\n",
       "      <td>Male</td>\n",
       "      <td>No</td>\n",
       "      <td>Sun</td>\n",
       "      <td>Dinner</td>\n",
       "      <td>3</td>\n",
       "    </tr>\n",
       "    <tr>\n",
       "      <th>3</th>\n",
       "      <td>23.68</td>\n",
       "      <td>3.31</td>\n",
       "      <td>Male</td>\n",
       "      <td>No</td>\n",
       "      <td>Sun</td>\n",
       "      <td>Dinner</td>\n",
       "      <td>2</td>\n",
       "    </tr>\n",
       "    <tr>\n",
       "      <th>4</th>\n",
       "      <td>24.59</td>\n",
       "      <td>3.61</td>\n",
       "      <td>Female</td>\n",
       "      <td>No</td>\n",
       "      <td>Sun</td>\n",
       "      <td>Dinner</td>\n",
       "      <td>4</td>\n",
       "    </tr>\n",
       "    <tr>\n",
       "      <th>...</th>\n",
       "      <td>...</td>\n",
       "      <td>...</td>\n",
       "      <td>...</td>\n",
       "      <td>...</td>\n",
       "      <td>...</td>\n",
       "      <td>...</td>\n",
       "      <td>...</td>\n",
       "    </tr>\n",
       "    <tr>\n",
       "      <th>239</th>\n",
       "      <td>29.03</td>\n",
       "      <td>5.92</td>\n",
       "      <td>Male</td>\n",
       "      <td>No</td>\n",
       "      <td>Sat</td>\n",
       "      <td>Dinner</td>\n",
       "      <td>3</td>\n",
       "    </tr>\n",
       "    <tr>\n",
       "      <th>240</th>\n",
       "      <td>27.18</td>\n",
       "      <td>2.00</td>\n",
       "      <td>Female</td>\n",
       "      <td>Yes</td>\n",
       "      <td>Sat</td>\n",
       "      <td>Dinner</td>\n",
       "      <td>2</td>\n",
       "    </tr>\n",
       "    <tr>\n",
       "      <th>241</th>\n",
       "      <td>22.67</td>\n",
       "      <td>2.00</td>\n",
       "      <td>Male</td>\n",
       "      <td>Yes</td>\n",
       "      <td>Sat</td>\n",
       "      <td>Dinner</td>\n",
       "      <td>2</td>\n",
       "    </tr>\n",
       "    <tr>\n",
       "      <th>242</th>\n",
       "      <td>17.82</td>\n",
       "      <td>1.75</td>\n",
       "      <td>Male</td>\n",
       "      <td>No</td>\n",
       "      <td>Sat</td>\n",
       "      <td>Dinner</td>\n",
       "      <td>2</td>\n",
       "    </tr>\n",
       "    <tr>\n",
       "      <th>243</th>\n",
       "      <td>18.78</td>\n",
       "      <td>3.00</td>\n",
       "      <td>Female</td>\n",
       "      <td>No</td>\n",
       "      <td>Thur</td>\n",
       "      <td>Dinner</td>\n",
       "      <td>2</td>\n",
       "    </tr>\n",
       "  </tbody>\n",
       "</table>\n",
       "<p>244 rows × 7 columns</p>\n",
       "</div>"
      ],
      "text/plain": [
       "     total_bill   tip     sex smoker   day    time  size\n",
       "0         16.99  1.01  Female     No   Sun  Dinner     2\n",
       "1         10.34  1.66    Male     No   Sun  Dinner     3\n",
       "2         21.01  3.50    Male     No   Sun  Dinner     3\n",
       "3         23.68  3.31    Male     No   Sun  Dinner     2\n",
       "4         24.59  3.61  Female     No   Sun  Dinner     4\n",
       "..          ...   ...     ...    ...   ...     ...   ...\n",
       "239       29.03  5.92    Male     No   Sat  Dinner     3\n",
       "240       27.18  2.00  Female    Yes   Sat  Dinner     2\n",
       "241       22.67  2.00    Male    Yes   Sat  Dinner     2\n",
       "242       17.82  1.75    Male     No   Sat  Dinner     2\n",
       "243       18.78  3.00  Female     No  Thur  Dinner     2\n",
       "\n",
       "[244 rows x 7 columns]"
      ]
     },
     "execution_count": 66,
     "metadata": {},
     "output_type": "execute_result"
    }
   ],
   "source": [
    "data= sns.load_dataset(\"tips\")\n",
    "data"
   ]
  },
  {
   "cell_type": "code",
   "execution_count": 67,
   "id": "9ed7b47a",
   "metadata": {},
   "outputs": [
    {
     "data": {
      "text/html": [
       "<div>\n",
       "<style scoped>\n",
       "    .dataframe tbody tr th:only-of-type {\n",
       "        vertical-align: middle;\n",
       "    }\n",
       "\n",
       "    .dataframe tbody tr th {\n",
       "        vertical-align: top;\n",
       "    }\n",
       "\n",
       "    .dataframe thead th {\n",
       "        text-align: right;\n",
       "    }\n",
       "</style>\n",
       "<table border=\"1\" class=\"dataframe\">\n",
       "  <thead>\n",
       "    <tr style=\"text-align: right;\">\n",
       "      <th>smoker</th>\n",
       "      <th>Yes</th>\n",
       "      <th>No</th>\n",
       "    </tr>\n",
       "    <tr>\n",
       "      <th>sex</th>\n",
       "      <th></th>\n",
       "      <th></th>\n",
       "    </tr>\n",
       "  </thead>\n",
       "  <tbody>\n",
       "    <tr>\n",
       "      <th>Male</th>\n",
       "      <td>60</td>\n",
       "      <td>97</td>\n",
       "    </tr>\n",
       "    <tr>\n",
       "      <th>Female</th>\n",
       "      <td>33</td>\n",
       "      <td>54</td>\n",
       "    </tr>\n",
       "  </tbody>\n",
       "</table>\n",
       "</div>"
      ],
      "text/plain": [
       "smoker  Yes  No\n",
       "sex            \n",
       "Male     60  97\n",
       "Female   33  54"
      ]
     },
     "execution_count": 67,
     "metadata": {},
     "output_type": "execute_result"
    }
   ],
   "source": [
    "obs_table=pd.crosstab(data[\"sex\"],data[\"smoker\"])\n",
    "obs_table"
   ]
  },
  {
   "cell_type": "code",
   "execution_count": 68,
   "id": "3527c788",
   "metadata": {},
   "outputs": [],
   "source": [
    "v=st.chi2_contingency(obs_table)"
   ]
  },
  {
   "cell_type": "code",
   "execution_count": 69,
   "id": "b7e6bb81",
   "metadata": {},
   "outputs": [
    {
     "data": {
      "text/plain": [
       "(0.0,\n",
       " 1.0,\n",
       " 1,\n",
       " array([[59.84016393, 97.15983607],\n",
       "        [33.15983607, 53.84016393]]))"
      ]
     },
     "execution_count": 69,
     "metadata": {},
     "output_type": "execute_result"
    }
   ],
   "source": [
    "v"
   ]
  },
  {
   "cell_type": "code",
   "execution_count": 70,
   "id": "c050962e",
   "metadata": {},
   "outputs": [
    {
     "name": "stdout",
     "output_type": "stream",
     "text": [
      "Accept null hypothesis.\n"
     ]
    }
   ],
   "source": [
    "if v[1]<0.05:\n",
    "    print(\"Reject null hypothesis.\")\n",
    "    \n",
    "else:\n",
    "    print(\"Accept null hypothesis.\")"
   ]
  },
  {
   "cell_type": "markdown",
   "id": "411f59d5",
   "metadata": {},
   "source": [
    "# ANOVA OR F-TEST :"
   ]
  },
  {
   "cell_type": "code",
   "execution_count": 71,
   "id": "d5d0217b",
   "metadata": {},
   "outputs": [
    {
     "data": {
      "text/html": [
       "<div>\n",
       "<style scoped>\n",
       "    .dataframe tbody tr th:only-of-type {\n",
       "        vertical-align: middle;\n",
       "    }\n",
       "\n",
       "    .dataframe tbody tr th {\n",
       "        vertical-align: top;\n",
       "    }\n",
       "\n",
       "    .dataframe thead th {\n",
       "        text-align: right;\n",
       "    }\n",
       "</style>\n",
       "<table border=\"1\" class=\"dataframe\">\n",
       "  <thead>\n",
       "    <tr style=\"text-align: right;\">\n",
       "      <th></th>\n",
       "      <th>sepal_length</th>\n",
       "      <th>sepal_width</th>\n",
       "      <th>petal_length</th>\n",
       "      <th>petal_width</th>\n",
       "      <th>species</th>\n",
       "    </tr>\n",
       "  </thead>\n",
       "  <tbody>\n",
       "    <tr>\n",
       "      <th>0</th>\n",
       "      <td>5.1</td>\n",
       "      <td>3.5</td>\n",
       "      <td>1.4</td>\n",
       "      <td>0.2</td>\n",
       "      <td>setosa</td>\n",
       "    </tr>\n",
       "    <tr>\n",
       "      <th>1</th>\n",
       "      <td>4.9</td>\n",
       "      <td>3.0</td>\n",
       "      <td>1.4</td>\n",
       "      <td>0.2</td>\n",
       "      <td>setosa</td>\n",
       "    </tr>\n",
       "    <tr>\n",
       "      <th>2</th>\n",
       "      <td>4.7</td>\n",
       "      <td>3.2</td>\n",
       "      <td>1.3</td>\n",
       "      <td>0.2</td>\n",
       "      <td>setosa</td>\n",
       "    </tr>\n",
       "  </tbody>\n",
       "</table>\n",
       "</div>"
      ],
      "text/plain": [
       "   sepal_length  sepal_width  petal_length  petal_width species\n",
       "0           5.1          3.5           1.4          0.2  setosa\n",
       "1           4.9          3.0           1.4          0.2  setosa\n",
       "2           4.7          3.2           1.3          0.2  setosa"
      ]
     },
     "execution_count": 71,
     "metadata": {},
     "output_type": "execute_result"
    }
   ],
   "source": [
    "df3=sns.load_dataset(\"iris\")\n",
    "df3.head(3)"
   ]
  },
  {
   "cell_type": "code",
   "execution_count": 72,
   "id": "4d1ad256",
   "metadata": {},
   "outputs": [],
   "source": [
    "df_anova= df3[[\"petal_width\",\"species\"]]"
   ]
  },
  {
   "cell_type": "code",
   "execution_count": 73,
   "id": "f9a1ca0b",
   "metadata": {},
   "outputs": [
    {
     "data": {
      "text/plain": [
       "RangeIndex(start=0, stop=150, step=1)"
      ]
     },
     "execution_count": 73,
     "metadata": {},
     "output_type": "execute_result"
    }
   ],
   "source": [
    "df_anova.index"
   ]
  },
  {
   "cell_type": "code",
   "execution_count": 74,
   "id": "e887b3b5",
   "metadata": {},
   "outputs": [
    {
     "data": {
      "text/plain": [
       "array(['setosa', 'versicolor', 'virginica'], dtype=object)"
      ]
     },
     "execution_count": 74,
     "metadata": {},
     "output_type": "execute_result"
    }
   ],
   "source": [
    "grps= pd.unique(df_anova.species.values)\n",
    "grps"
   ]
  },
  {
   "cell_type": "code",
   "execution_count": 75,
   "id": "342723e5",
   "metadata": {},
   "outputs": [],
   "source": [
    "d_data = {grp: df_anova[\"petal_width\"][df_anova.species==grp]for grp in grps}"
   ]
  },
  {
   "cell_type": "code",
   "execution_count": 76,
   "id": "f6e8ec91",
   "metadata": {},
   "outputs": [],
   "source": [
    "F, p= st.f_oneway(d_data[\"setosa\"], d_data[\"versicolor\"], d_data[\"virginica\"])"
   ]
  },
  {
   "cell_type": "code",
   "execution_count": 77,
   "id": "9d089cf7",
   "metadata": {},
   "outputs": [
    {
     "name": "stdout",
     "output_type": "stream",
     "text": [
      "0.0\n"
     ]
    }
   ],
   "source": [
    "print(round(p,4))"
   ]
  },
  {
   "cell_type": "code",
   "execution_count": 78,
   "id": "5a852e0a",
   "metadata": {},
   "outputs": [
    {
     "name": "stdout",
     "output_type": "stream",
     "text": [
      "reject null hypothesis\n"
     ]
    }
   ],
   "source": [
    "if p<0.05:\n",
    "    print(\"reject null hypothesis\")\n",
    "    \n",
    "else:\n",
    "    print(\"accept null hypothesis\")"
   ]
  },
  {
   "cell_type": "code",
   "execution_count": 79,
   "id": "65b05562",
   "metadata": {},
   "outputs": [
    {
     "data": {
      "text/html": [
       "<div>\n",
       "<style scoped>\n",
       "    .dataframe tbody tr th:only-of-type {\n",
       "        vertical-align: middle;\n",
       "    }\n",
       "\n",
       "    .dataframe tbody tr th {\n",
       "        vertical-align: top;\n",
       "    }\n",
       "\n",
       "    .dataframe thead th {\n",
       "        text-align: right;\n",
       "    }\n",
       "</style>\n",
       "<table border=\"1\" class=\"dataframe\">\n",
       "  <thead>\n",
       "    <tr style=\"text-align: right;\">\n",
       "      <th></th>\n",
       "      <th>sepal_length</th>\n",
       "      <th>sepal_width</th>\n",
       "      <th>petal_length</th>\n",
       "      <th>petal_width</th>\n",
       "      <th>species</th>\n",
       "    </tr>\n",
       "  </thead>\n",
       "  <tbody>\n",
       "    <tr>\n",
       "      <th>0</th>\n",
       "      <td>5.1</td>\n",
       "      <td>3.5</td>\n",
       "      <td>1.4</td>\n",
       "      <td>0.2</td>\n",
       "      <td>setosa</td>\n",
       "    </tr>\n",
       "    <tr>\n",
       "      <th>1</th>\n",
       "      <td>4.9</td>\n",
       "      <td>3.0</td>\n",
       "      <td>1.4</td>\n",
       "      <td>0.2</td>\n",
       "      <td>setosa</td>\n",
       "    </tr>\n",
       "    <tr>\n",
       "      <th>2</th>\n",
       "      <td>4.7</td>\n",
       "      <td>3.2</td>\n",
       "      <td>1.3</td>\n",
       "      <td>0.2</td>\n",
       "      <td>setosa</td>\n",
       "    </tr>\n",
       "    <tr>\n",
       "      <th>3</th>\n",
       "      <td>4.6</td>\n",
       "      <td>3.1</td>\n",
       "      <td>1.5</td>\n",
       "      <td>0.2</td>\n",
       "      <td>setosa</td>\n",
       "    </tr>\n",
       "    <tr>\n",
       "      <th>4</th>\n",
       "      <td>5.0</td>\n",
       "      <td>3.6</td>\n",
       "      <td>1.4</td>\n",
       "      <td>0.2</td>\n",
       "      <td>setosa</td>\n",
       "    </tr>\n",
       "    <tr>\n",
       "      <th>...</th>\n",
       "      <td>...</td>\n",
       "      <td>...</td>\n",
       "      <td>...</td>\n",
       "      <td>...</td>\n",
       "      <td>...</td>\n",
       "    </tr>\n",
       "    <tr>\n",
       "      <th>145</th>\n",
       "      <td>6.7</td>\n",
       "      <td>3.0</td>\n",
       "      <td>5.2</td>\n",
       "      <td>2.3</td>\n",
       "      <td>virginica</td>\n",
       "    </tr>\n",
       "    <tr>\n",
       "      <th>146</th>\n",
       "      <td>6.3</td>\n",
       "      <td>2.5</td>\n",
       "      <td>5.0</td>\n",
       "      <td>1.9</td>\n",
       "      <td>virginica</td>\n",
       "    </tr>\n",
       "    <tr>\n",
       "      <th>147</th>\n",
       "      <td>6.5</td>\n",
       "      <td>3.0</td>\n",
       "      <td>5.2</td>\n",
       "      <td>2.0</td>\n",
       "      <td>virginica</td>\n",
       "    </tr>\n",
       "    <tr>\n",
       "      <th>148</th>\n",
       "      <td>6.2</td>\n",
       "      <td>3.4</td>\n",
       "      <td>5.4</td>\n",
       "      <td>2.3</td>\n",
       "      <td>virginica</td>\n",
       "    </tr>\n",
       "    <tr>\n",
       "      <th>149</th>\n",
       "      <td>5.9</td>\n",
       "      <td>3.0</td>\n",
       "      <td>5.1</td>\n",
       "      <td>1.8</td>\n",
       "      <td>virginica</td>\n",
       "    </tr>\n",
       "  </tbody>\n",
       "</table>\n",
       "<p>150 rows × 5 columns</p>\n",
       "</div>"
      ],
      "text/plain": [
       "     sepal_length  sepal_width  petal_length  petal_width    species\n",
       "0             5.1          3.5           1.4          0.2     setosa\n",
       "1             4.9          3.0           1.4          0.2     setosa\n",
       "2             4.7          3.2           1.3          0.2     setosa\n",
       "3             4.6          3.1           1.5          0.2     setosa\n",
       "4             5.0          3.6           1.4          0.2     setosa\n",
       "..            ...          ...           ...          ...        ...\n",
       "145           6.7          3.0           5.2          2.3  virginica\n",
       "146           6.3          2.5           5.0          1.9  virginica\n",
       "147           6.5          3.0           5.2          2.0  virginica\n",
       "148           6.2          3.4           5.4          2.3  virginica\n",
       "149           5.9          3.0           5.1          1.8  virginica\n",
       "\n",
       "[150 rows x 5 columns]"
      ]
     },
     "execution_count": 79,
     "metadata": {},
     "output_type": "execute_result"
    }
   ],
   "source": [
    "df3"
   ]
  },
  {
   "cell_type": "code",
   "execution_count": 80,
   "id": "a156cc08",
   "metadata": {},
   "outputs": [],
   "source": [
    "a=df3.corr()"
   ]
  },
  {
   "cell_type": "code",
   "execution_count": 85,
   "id": "27b9553a",
   "metadata": {},
   "outputs": [
    {
     "data": {
      "image/png": "[encoded data removed]",
      "text/plain": [
       "<Figure size 720x360 with 2 Axes>"
      ]
     },
     "metadata": {
      "needs_background": "light"
     },
     "output_type": "display_data"
    }
   ],
   "source": [
    "plt.figure(figsize=(10,5))\n",
    "sns.heatmap(a,annot=True);"
   ]
  },
  {
   "cell_type": "code",
   "execution_count": null,
   "id": "4fae192e",
   "metadata": {},
   "outputs": [],
   "source": []
  }
 ],
 "metadata": {
  "kernelspec": {
   "display_name": "Python 3 (ipykernel)",
   "language": "python",
   "name": "python3"
  },
  "language_info": {
   "codemirror_mode": {
    "name": "ipython",
    "version": 3
   },
   "file_extension": ".py",
   "mimetype": "text/x-python",
   "name": "python",
   "nbconvert_exporter": "python",
   "pygments_lexer": "ipython3",
   "version": "3.10.2"
  }
 },
 "nbformat": 4,
 "nbformat_minor": 5
}
